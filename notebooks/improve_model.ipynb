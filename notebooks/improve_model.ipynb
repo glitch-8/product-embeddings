{
 "cells": [
  {
   "cell_type": "code",
   "execution_count": 1,
   "metadata": {},
   "outputs": [
    {
     "name": "stdout",
     "output_type": "stream",
     "text": [
      "WARNING:tensorflow:From c:\\Users\\91845\\Desktop\\projects\\product_embeddings\\venv\\lib\\site-packages\\keras\\src\\losses.py:2976: The name tf.losses.sparse_softmax_cross_entropy is deprecated. Please use tf.compat.v1.losses.sparse_softmax_cross_entropy instead.\n",
      "\n"
     ]
    }
   ],
   "source": [
    "import os\n",
    "os.environ['KAGGLE_CONFIG_DIR'] = 'C:/Users/91845/Desktop/projects/product_embeddings/config'\n",
    "import random\n",
    "import datetime\n",
    "import math\n",
    "import zipfile\n",
    "import glob\n",
    "\n",
    "import numpy as np\n",
    "import pandas as pd\n",
    "from tqdm import tqdm\n",
    "import tensorflow as tf\n",
    "tf.config.run_functions_eagerly(True)\n",
    "from keras import backend  as K\n",
    "from keras.layers import (\n",
    "    Input, \n",
    "    Embedding, \n",
    "    Dot, \n",
    "    Dense, \n",
    "    Multiply, \n",
    "    Concatenate\n",
    ")\n",
    "from keras.models import Sequential, Model, load_model\n",
    "from keras.callbacks import ModelCheckpoint, Callback, EarlyStopping\n",
    "from keras import initializers\n",
    "from keras import activations\n",
    "from tensorflow.keras.utils import plot_model"
   ]
  },
  {
   "cell_type": "code",
   "execution_count": 2,
   "metadata": {},
   "outputs": [],
   "source": [
    "BASE_DIR_PATH = 'C:/Users/91845/Desktop/projects/product_embeddings/data/instacart-market-basket-analysis'\n",
    "DATASET_FILEPATH = 'C:/Users/91845/Desktop/projects/product_embeddings/data/instacart-market-basket-analysis/prepared_dataset'"
   ]
  },
  {
   "cell_type": "code",
   "execution_count": 3,
   "metadata": {},
   "outputs": [
    {
     "name": "stderr",
     "output_type": "stream",
     "text": [
      "100%|██████████| 49688/49688 [02:32<00:00, 325.69it/s]  \n"
     ]
    },
    {
     "data": {
      "text/plain": [
       "(49689, 135, 22)"
      ]
     },
     "execution_count": 3,
     "metadata": {},
     "output_type": "execute_result"
    }
   ],
   "source": [
    "# load the products data to memory\n",
    "products_df = pd.read_csv(f'{BASE_DIR_PATH}/products.csv/products.csv')\n",
    "# map each product to aisle id and department id\n",
    "total_products = len(products_df)\n",
    "aisle_map: dict = dict()\n",
    "department_map: dict = dict()\n",
    "for ix, row in tqdm(products_df.iterrows(), total=total_products):\n",
    "    department_map[row['product_id']] = row['department_id']\n",
    "    aisle_map[row['product_id']] = row['aisle_id']\n",
    "\n",
    "max_products = products_df.product_id.nunique() + 1\n",
    "max_aisles = products_df.aisle_id.nunique() + 1\n",
    "max_departments = products_df.department_id.nunique() + 1\n",
    "\n",
    "max_products, max_aisles, max_departments"
   ]
  },
  {
   "cell_type": "code",
   "execution_count": 4,
   "metadata": {},
   "outputs": [
    {
     "name": "stdout",
     "output_type": "stream",
     "text": [
      "WARNING:tensorflow:From c:\\Users\\91845\\Desktop\\projects\\product_embeddings\\venv\\lib\\site-packages\\keras\\src\\backend.py:1398: The name tf.executing_eagerly_outside_functions is deprecated. Please use tf.compat.v1.executing_eagerly_outside_functions instead.\n",
      "\n",
      "WARNING:tensorflow:From c:\\Users\\91845\\Desktop\\projects\\product_embeddings\\venv\\lib\\site-packages\\keras\\src\\optimizers\\__init__.py:309: The name tf.train.Optimizer is deprecated. Please use tf.compat.v1.train.Optimizer instead.\n",
      "\n"
     ]
    }
   ],
   "source": [
    "# Modelling\n",
    "input_shape = 1\n",
    "output_shape = 1\n",
    "embedding_shape_item = 64\n",
    "embedding_shape_dept_aisle = 16\n",
    "\n",
    "# define inputs to the model\n",
    "first_input_pid = Input(shape=(input_shape, ), name='first_pid')\n",
    "first_input_dept_id = Input(shape=(input_shape, ), name='first_dept')\n",
    "first_input_aisle_id = Input(shape=(input_shape, ), name='first_aisle')\n",
    "second_input_pid = Input(shape=(input_shape, ), name='second_pid')\n",
    "second_input_dept_id = Input(shape=(input_shape, ), name='second_dept')\n",
    "second_input_aisle_id = Input(shape=(input_shape, ), name='second_aisle')\n",
    "\n",
    "embedding_layer_pid = Embedding(\n",
    "     input_dim=max_products, \n",
    "     output_dim=embedding_shape_item,\n",
    "     name='product_embedding',\n",
    "     embeddings_initializer='uniform',\n",
    "     embeddings_regularizer=None, \n",
    "     activity_regularizer=None, \n",
    "     mask_zero=None, \n",
    "     input_length=input_shape\n",
    ")\n",
    "\n",
    "embedding_layer_dept = Embedding(\n",
    "    input_dim=max_departments, \n",
    "    output_dim=embedding_shape_dept_aisle, \n",
    "    name='department_embedding',\n",
    "    embeddings_initializer='uniform', \n",
    "    embeddings_regularizer=None, \n",
    "    activity_regularizer=None,\n",
    "    embeddings_constraint=None,\n",
    "    mask_zero=None, \n",
    "    input_length=input_shape\n",
    ")\n",
    "\n",
    "embedding_layer_aisles = Embedding(\n",
    "    input_dim=max_aisles, \n",
    "    output_dim=embedding_shape_dept_aisle, \n",
    "    name='aisle_embedding',\n",
    "    embeddings_initializer='uniform', \n",
    "    embeddings_regularizer=None, \n",
    "    activity_regularizer=None,\n",
    "    embeddings_constraint=None,\n",
    "    mask_zero=None, \n",
    "    input_length=input_shape\n",
    ")\n",
    "\n",
    "# embedding layer for both inputs\n",
    "first_input_encoded_pid = embedding_layer_pid(first_input_pid)\n",
    "first_input_encoded_dept_id = embedding_layer_dept(first_input_dept_id)\n",
    "first_input_encoded_aisle_id = embedding_layer_aisles(first_input_aisle_id)\n",
    "\n",
    "second_input_encoded_pid = embedding_layer_pid(second_input_pid)\n",
    "second_input_encoded_dept_id = embedding_layer_dept(second_input_dept_id)\n",
    "second_input_encoded_aisle_id = embedding_layer_aisles(second_input_aisle_id)\n",
    "\n",
    "first_input_encoded_concatenated = Concatenate(name='first_input_concatenation')([\n",
    "    first_input_encoded_pid, \n",
    "    first_input_encoded_dept_id, \n",
    "    first_input_encoded_aisle_id\n",
    "])\n",
    "second_input_encoded_concatenated = Concatenate(name='second_input_concatentation')([\n",
    "    second_input_encoded_pid, \n",
    "    second_input_encoded_dept_id, \n",
    "    second_input_encoded_aisle_id\n",
    "])\n",
    "\n",
    "# multiplication layer\n",
    "# element wise dot product\n",
    "dot_product = Multiply(name='multiplication')([\n",
    "    first_input_encoded_concatenated, \n",
    "    second_input_encoded_concatenated\n",
    "])\n",
    "\n",
    "# adding more dense layers\n",
    "dense_layer1 = Dense(64, input_shape=(96, ), activation='elu', kernel_initializer=initializers.he_normal())(dot_product)\n",
    "dense_layer2 = Dense(32, input_shape=(64, ), activation='elu', kernel_initializer=initializers.he_normal())(dense_layer1)\n",
    "\n",
    "# output layer \n",
    "y = Dense(1, activation='sigmoid')(dense_layer2)\n",
    "\n",
    "final_model = Model(inputs=[\n",
    "    first_input_pid, \n",
    "    first_input_dept_id, \n",
    "    first_input_aisle_id, \n",
    "    second_input_pid, \n",
    "    second_input_dept_id, \n",
    "    second_input_aisle_id\n",
    "], outputs=y)\n",
    "\n",
    "final_model.compile(\n",
    "    loss='binary_crossentropy', \n",
    "    optimizer='adam', \n",
    "    metrics=['accuracy']\n",
    ")"
   ]
  },
  {
   "cell_type": "code",
   "execution_count": 5,
   "metadata": {},
   "outputs": [
    {
     "name": "stdout",
     "output_type": "stream",
     "text": [
      "Model: \"model\"\n",
      "__________________________________________________________________________________________________\n",
      " Layer (type)                Output Shape                 Param #   Connected to                  \n",
      "==================================================================================================\n",
      " first_pid (InputLayer)      [(None, 1)]                  0         []                            \n",
      "                                                                                                  \n",
      " first_dept (InputLayer)     [(None, 1)]                  0         []                            \n",
      "                                                                                                  \n",
      " first_aisle (InputLayer)    [(None, 1)]                  0         []                            \n",
      "                                                                                                  \n",
      " second_pid (InputLayer)     [(None, 1)]                  0         []                            \n",
      "                                                                                                  \n",
      " second_dept (InputLayer)    [(None, 1)]                  0         []                            \n",
      "                                                                                                  \n",
      " second_aisle (InputLayer)   [(None, 1)]                  0         []                            \n",
      "                                                                                                  \n",
      " product_embedding (Embeddi  (None, 1, 64)                3180096   ['first_pid[0][0]',           \n",
      " ng)                                                                 'second_pid[0][0]']          \n",
      "                                                                                                  \n",
      " department_embedding (Embe  (None, 1, 16)                352       ['first_dept[0][0]',          \n",
      " dding)                                                              'second_dept[0][0]']         \n",
      "                                                                                                  \n",
      " aisle_embedding (Embedding  (None, 1, 16)                2160      ['first_aisle[0][0]',         \n",
      " )                                                                   'second_aisle[0][0]']        \n",
      "                                                                                                  \n",
      " first_input_concatenation   (None, 1, 96)                0         ['product_embedding[0][0]',   \n",
      " (Concatenate)                                                       'department_embedding[0][0]',\n",
      "                                                                     'aisle_embedding[0][0]']     \n",
      "                                                                                                  \n",
      " second_input_concatentatio  (None, 1, 96)                0         ['product_embedding[1][0]',   \n",
      " n (Concatenate)                                                     'department_embedding[1][0]',\n",
      "                                                                     'aisle_embedding[1][0]']     \n",
      "                                                                                                  \n",
      " multiplication (Multiply)   (None, 1, 96)                0         ['first_input_concatenation[0]\n",
      "                                                                    [0]',                         \n",
      "                                                                     'second_input_concatentation[\n",
      "                                                                    0][0]']                       \n",
      "                                                                                                  \n",
      " dense (Dense)               (None, 1, 64)                6208      ['multiplication[0][0]']      \n",
      "                                                                                                  \n",
      " dense_1 (Dense)             (None, 1, 32)                2080      ['dense[0][0]']               \n",
      "                                                                                                  \n",
      " dense_2 (Dense)             (None, 1, 1)                 33        ['dense_1[0][0]']             \n",
      "                                                                                                  \n",
      "==================================================================================================\n",
      "Total params: 3190929 (12.17 MB)\n",
      "Trainable params: 3190929 (12.17 MB)\n",
      "Non-trainable params: 0 (0.00 Byte)\n",
      "__________________________________________________________________________________________________\n"
     ]
    }
   ],
   "source": [
    "final_model.summary()"
   ]
  },
  {
   "cell_type": "code",
   "execution_count": 6,
   "metadata": {},
   "outputs": [
    {
     "data": {
      "image/png": "[encoded data removed]",
      "text/plain": [
       "<IPython.core.display.Image object>"
      ]
     },
     "execution_count": 6,
     "metadata": {},
     "output_type": "execute_result"
    }
   ],
   "source": [
    "plot_model(final_model)"
   ]
  },
  {
   "cell_type": "code",
   "execution_count": 7,
   "metadata": {},
   "outputs": [],
   "source": [
    "all_files = glob.glob(os.path.join(DATASET_FILEPATH, '*.csv'))\n",
    "def generate_batches_val(files, batch_size, val_split): \n",
    "    counter = 0\n",
    "\n",
    "    while True: \n",
    "        fname = files[counter]\n",
    "\n",
    "        counter = (counter + 1)%len(files)\n",
    "        batch = pd.read_csv(fname)\n",
    "\n",
    "        batch['dept_id1'] = batch['pid1'].apply(lambda p: department_map[p])\n",
    "        batch['aisle_id1'] = batch['pid1'].apply(lambda p: aisle_map[p])\n",
    "\n",
    "        batch['dept_id2'] = batch['pid2'].apply(lambda p: department_map[p])\n",
    "        batch['aisle_id2'] = batch['pid2'].apply(lambda p: aisle_map[p])\n",
    "\n",
    "        for local_index in range(0, batch.shape[0], batch_size):\n",
    "            till = int(batch_size*(1-val_split))\n",
    "            from_idx = local_index\n",
    "            to_idx = local_index + batch_size - till\n",
    "\n",
    "            input_local_pid1 = batch.iloc[from_idx:to_idx]['pid1']\n",
    "            input_local_dept_id1 = batch.iloc[from_idx:to_idx]['dept_id1']\n",
    "            input_local_aisle_id1 = batch.iloc[from_idx:to_idx]['aisle_id1']\n",
    "            \n",
    "            input_local_pid2 = batch.iloc[from_idx:to_idx]['pid2']\n",
    "            input_local_dept_id2 = batch.iloc[from_idx:to_idx]['dept_id2']\n",
    "            input_local_aisle_id2 = batch.iloc[from_idx:to_idx]['aisle_id2']\n",
    "\n",
    "            output_local = batch.iloc[from_idx:to_idx]['label']\n",
    "            yield [\n",
    "                np.array(input_local_pid1),\n",
    "                np.array(input_local_dept_id1), \n",
    "                np.array(input_local_aisle_id1), \n",
    "                np.array(input_local_pid2), \n",
    "                np.array(input_local_dept_id2),\n",
    "                np.array(input_local_aisle_id2)\n",
    "            ], np.array(output_local).reshape((-1, 1))\n",
    "\n",
    "\n",
    "def generate_batches_train(files, batch_size, val_split): \n",
    "    counter = 0\n",
    "\n",
    "    while True: \n",
    "        fname = files[counter]\n",
    "\n",
    "        counter = (counter + 1)%len(files)\n",
    "        batch = pd.read_csv(fname)\n",
    "\n",
    "        batch['dept_id1'] = batch['pid1'].apply(lambda p: department_map[p])\n",
    "        batch['aisle_id1'] = batch['pid1'].apply(lambda p: aisle_map[p])\n",
    "\n",
    "        batch['dept_id2'] = batch['pid2'].apply(lambda p: department_map[p])\n",
    "        batch['aisle_id2'] = batch['pid2'].apply(lambda p: aisle_map[p])\n",
    "\n",
    "        for local_index in range(0, batch.shape[0], batch_size):\n",
    "            till = int(batch_size*(1-val_split))\n",
    "            from_idx = local_index + batch_size - till\n",
    "            to_idx = local_index + batch_size\n",
    "\n",
    "            input_local_pid1 = batch.iloc[from_idx:to_idx]['pid1']\n",
    "            input_local_dept_id1 = batch.iloc[from_idx:to_idx]['dept_id1']\n",
    "            input_local_aisle_id1 = batch.iloc[from_idx:to_idx]['aisle_id1']\n",
    "            \n",
    "            input_local_pid2 = batch.iloc[from_idx:to_idx]['pid2']\n",
    "            input_local_dept_id2 = batch.iloc[from_idx:to_idx]['dept_id2']\n",
    "            input_local_aisle_id2 = batch.iloc[from_idx:to_idx]['aisle_id2']\n",
    "\n",
    "            output_local = batch.iloc[from_idx:to_idx]['label']\n",
    "\n",
    "            yield [\n",
    "                np.array(input_local_pid1),\n",
    "                np.array(input_local_dept_id1), \n",
    "                np.array(input_local_aisle_id1), \n",
    "                np.array(input_local_pid2), \n",
    "                np.array(input_local_dept_id2),\n",
    "                np.array(input_local_aisle_id2)\n",
    "            ], np.array(output_local).reshape((-1, 1))"
   ]
  },
  {
   "cell_type": "code",
   "execution_count": 8,
   "metadata": {},
   "outputs": [],
   "source": [
    "BATCH_SIZE: int = 8000\n",
    "VAL_SPLIT: float = 0.15\n",
    "\n",
    "train_files = all_files\n",
    "\n",
    "train_generator = generate_batches_train(files=train_files, batch_size=BATCH_SIZE, val_split=VAL_SPLIT)\n",
    "val_generator = generate_batches_val(files=train_files, batch_size=BATCH_SIZE, val_split=VAL_SPLIT)"
   ]
  },
  {
   "cell_type": "code",
   "execution_count": 9,
   "metadata": {},
   "outputs": [],
   "source": [
    "checkpoint_filepath = 'C:/Users/91845/Desktop/projects/product_embeddings/models/best_model_iter_2.h5'"
   ]
  },
  {
   "cell_type": "code",
   "execution_count": 10,
   "metadata": {},
   "outputs": [],
   "source": [
    "EPOCHS_CNT: int = 100\n",
    "\n",
    "model_checkpoint_callback = ModelCheckpoint(\n",
    "    checkpoint_filepath, \n",
    "    monitor='val_accuracy', \n",
    "    mode='max', \n",
    "    verbose=1, \n",
    "    save_best_only=True\n",
    ")\n",
    "early_stopping_callback = EarlyStopping(\n",
    "    monitor='val_accuracy', \n",
    "    mode='max', \n",
    "    verbose=1, \n",
    "    patience=10, \n",
    "    start_from_epoch=15\n",
    ")"
   ]
  },
  {
   "cell_type": "code",
   "execution_count": 11,
   "metadata": {},
   "outputs": [
    {
     "name": "stderr",
     "output_type": "stream",
     "text": [
      "c:\\Users\\91845\\Desktop\\projects\\product_embeddings\\venv\\lib\\site-packages\\tensorflow\\python\\data\\ops\\structured_function.py:258: UserWarning: Even though the `tf.config.experimental_run_functions_eagerly` option is set, this option does not apply to tf.data functions. To force eager execution of tf.data functions, please use `tf.data.experimental.enable_debug_mode()`.\n",
      "  warnings.warn(\n"
     ]
    },
    {
     "name": "stdout",
     "output_type": "stream",
     "text": [
      "Epoch 1/100\n",
      "WARNING:tensorflow:From c:\\Users\\91845\\Desktop\\projects\\product_embeddings\\venv\\lib\\site-packages\\keras\\src\\utils\\tf_utils.py:492: The name tf.ragged.RaggedTensorValue is deprecated. Please use tf.compat.v1.ragged.RaggedTensorValue instead.\n",
      "\n",
      "670/670 [==============================] - ETA: 0s - loss: 0.6517 - accuracy: 0.5964"
     ]
    },
    {
     "name": "stderr",
     "output_type": "stream",
     "text": [
      "c:\\Users\\91845\\Desktop\\projects\\product_embeddings\\venv\\lib\\site-packages\\tensorflow\\python\\data\\ops\\structured_function.py:258: UserWarning: Even though the `tf.config.experimental_run_functions_eagerly` option is set, this option does not apply to tf.data functions. To force eager execution of tf.data functions, please use `tf.data.experimental.enable_debug_mode()`.\n",
      "  warnings.warn(\n"
     ]
    },
    {
     "name": "stdout",
     "output_type": "stream",
     "text": [
      "\n",
      "Epoch 1: val_accuracy improved from -inf to 0.63885, saving model to C:/Users/91845/Desktop/projects/product_embeddings/models\\best_model_iter_2.h5\n",
      "670/670 [==============================] - 193s 288ms/step - loss: 0.6517 - accuracy: 0.5964 - val_loss: 0.6189 - val_accuracy: 0.6389\n",
      "Epoch 2/100\n"
     ]
    },
    {
     "name": "stderr",
     "output_type": "stream",
     "text": [
      "c:\\Users\\91845\\Desktop\\projects\\product_embeddings\\venv\\lib\\site-packages\\keras\\src\\engine\\training.py:3103: UserWarning: You are saving your model as an HDF5 file via `model.save()`. This file format is considered legacy. We recommend using instead the native Keras format, e.g. `model.save('my_model.keras')`.\n",
      "  saving_api.save_model(\n"
     ]
    },
    {
     "name": "stdout",
     "output_type": "stream",
     "text": [
      "670/670 [==============================] - ETA: 0s - loss: 0.6064 - accuracy: 0.6483\n",
      "Epoch 2: val_accuracy improved from 0.63885 to 0.65778, saving model to C:/Users/91845/Desktop/projects/product_embeddings/models\\best_model_iter_2.h5\n",
      "670/670 [==============================] - 154s 229ms/step - loss: 0.6064 - accuracy: 0.6483 - val_loss: 0.5943 - val_accuracy: 0.6578\n",
      "Epoch 3/100\n",
      "670/670 [==============================] - ETA: 0s - loss: 0.5931 - accuracy: 0.6573\n",
      "Epoch 3: val_accuracy improved from 0.65778 to 0.65839, saving model to C:/Users/91845/Desktop/projects/product_embeddings/models\\best_model_iter_2.h5\n",
      "670/670 [==============================] - 234s 349ms/step - loss: 0.5931 - accuracy: 0.6573 - val_loss: 0.5958 - val_accuracy: 0.6584\n",
      "Epoch 4/100\n"
     ]
    },
    {
     "name": "stderr",
     "output_type": "stream",
     "text": [
      "c:\\Users\\91845\\Desktop\\projects\\product_embeddings\\venv\\lib\\site-packages\\keras\\src\\engine\\training.py:3103: UserWarning: You are saving your model as an HDF5 file via `model.save()`. This file format is considered legacy. We recommend using instead the native Keras format, e.g. `model.save('my_model.keras')`.\n",
      "  saving_api.save_model(\n"
     ]
    },
    {
     "name": "stdout",
     "output_type": "stream",
     "text": [
      "670/670 [==============================] - ETA: 0s - loss: 0.6177 - accuracy: 0.6332\n",
      "Epoch 4: val_accuracy did not improve from 0.65839\n",
      "670/670 [==============================] - 155s 232ms/step - loss: 0.6177 - accuracy: 0.6332 - val_loss: 0.6077 - val_accuracy: 0.6423\n",
      "Epoch 5/100\n",
      "670/670 [==============================] - ETA: 0s - loss: 0.6016 - accuracy: 0.6469\n",
      "Epoch 5: val_accuracy did not improve from 0.65839\n",
      "670/670 [==============================] - 115s 172ms/step - loss: 0.6016 - accuracy: 0.6469 - val_loss: 0.5953 - val_accuracy: 0.6527\n",
      "Epoch 6/100\n",
      "670/670 [==============================] - ETA: 0s - loss: 0.5981 - accuracy: 0.6494\n",
      "Epoch 6: val_accuracy did not improve from 0.65839\n",
      "670/670 [==============================] - 215s 322ms/step - loss: 0.5981 - accuracy: 0.6494 - val_loss: 0.6001 - val_accuracy: 0.6499\n",
      "Epoch 7/100\n",
      "670/670 [==============================] - ETA: 0s - loss: 0.6070 - accuracy: 0.6423\n",
      "Epoch 7: val_accuracy did not improve from 0.65839\n",
      "670/670 [==============================] - 139s 207ms/step - loss: 0.6070 - accuracy: 0.6423 - val_loss: 0.5978 - val_accuracy: 0.6505\n",
      "Epoch 8/100\n",
      "670/670 [==============================] - ETA: 0s - loss: 0.5906 - accuracy: 0.6555\n",
      "Epoch 8: val_accuracy improved from 0.65839 to 0.66031, saving model to C:/Users/91845/Desktop/projects/product_embeddings/models\\best_model_iter_2.h5\n",
      "670/670 [==============================] - 142s 212ms/step - loss: 0.5906 - accuracy: 0.6555 - val_loss: 0.5847 - val_accuracy: 0.6603\n",
      "Epoch 9/100\n"
     ]
    },
    {
     "name": "stderr",
     "output_type": "stream",
     "text": [
      "c:\\Users\\91845\\Desktop\\projects\\product_embeddings\\venv\\lib\\site-packages\\keras\\src\\engine\\training.py:3103: UserWarning: You are saving your model as an HDF5 file via `model.save()`. This file format is considered legacy. We recommend using instead the native Keras format, e.g. `model.save('my_model.keras')`.\n",
      "  saving_api.save_model(\n"
     ]
    },
    {
     "name": "stdout",
     "output_type": "stream",
     "text": [
      "670/670 [==============================] - ETA: 0s - loss: 0.6006 - accuracy: 0.6471\n",
      "Epoch 9: val_accuracy did not improve from 0.66031\n",
      "670/670 [==============================] - 215s 321ms/step - loss: 0.6006 - accuracy: 0.6471 - val_loss: 0.6008 - val_accuracy: 0.6478\n",
      "Epoch 10/100\n",
      "670/670 [==============================] - ETA: 0s - loss: 0.5998 - accuracy: 0.6478\n",
      "Epoch 10: val_accuracy did not improve from 0.66031\n",
      "670/670 [==============================] - 139s 207ms/step - loss: 0.5998 - accuracy: 0.6478 - val_loss: 0.5934 - val_accuracy: 0.6534\n",
      "Epoch 11/100\n",
      "670/670 [==============================] - ETA: 0s - loss: 0.5879 - accuracy: 0.6572\n",
      "Epoch 11: val_accuracy improved from 0.66031 to 0.66123, saving model to C:/Users/91845/Desktop/projects/product_embeddings/models\\best_model_iter_2.h5\n",
      "670/670 [==============================] - 142s 211ms/step - loss: 0.5879 - accuracy: 0.6572 - val_loss: 0.5825 - val_accuracy: 0.6612\n",
      "Epoch 12/100\n"
     ]
    },
    {
     "name": "stderr",
     "output_type": "stream",
     "text": [
      "c:\\Users\\91845\\Desktop\\projects\\product_embeddings\\venv\\lib\\site-packages\\keras\\src\\engine\\training.py:3103: UserWarning: You are saving your model as an HDF5 file via `model.save()`. This file format is considered legacy. We recommend using instead the native Keras format, e.g. `model.save('my_model.keras')`.\n",
      "  saving_api.save_model(\n"
     ]
    },
    {
     "name": "stdout",
     "output_type": "stream",
     "text": [
      "670/670 [==============================] - ETA: 0s - loss: 0.6036 - accuracy: 0.6446\n",
      "Epoch 12: val_accuracy did not improve from 0.66123\n",
      "670/670 [==============================] - 218s 326ms/step - loss: 0.6036 - accuracy: 0.6446 - val_loss: 0.6007 - val_accuracy: 0.6467\n",
      "Epoch 13/100\n",
      "670/670 [==============================] - ETA: 0s - loss: 0.5979 - accuracy: 0.6496\n",
      "Epoch 13: val_accuracy did not improve from 0.66123\n",
      "670/670 [==============================] - 144s 214ms/step - loss: 0.5979 - accuracy: 0.6496 - val_loss: 0.5919 - val_accuracy: 0.6547\n",
      "Epoch 14/100\n",
      "670/670 [==============================] - ETA: 0s - loss: 0.5864 - accuracy: 0.6589\n",
      "Epoch 14: val_accuracy improved from 0.66123 to 0.66233, saving model to C:/Users/91845/Desktop/projects/product_embeddings/models\\best_model_iter_2.h5\n",
      "670/670 [==============================] - 144s 215ms/step - loss: 0.5864 - accuracy: 0.6589 - val_loss: 0.5813 - val_accuracy: 0.6623\n",
      "Epoch 15/100\n"
     ]
    },
    {
     "name": "stderr",
     "output_type": "stream",
     "text": [
      "c:\\Users\\91845\\Desktop\\projects\\product_embeddings\\venv\\lib\\site-packages\\keras\\src\\engine\\training.py:3103: UserWarning: You are saving your model as an HDF5 file via `model.save()`. This file format is considered legacy. We recommend using instead the native Keras format, e.g. `model.save('my_model.keras')`.\n",
      "  saving_api.save_model(\n"
     ]
    },
    {
     "name": "stdout",
     "output_type": "stream",
     "text": [
      "670/670 [==============================] - ETA: 0s - loss: 0.6046 - accuracy: 0.6445\n",
      "Epoch 15: val_accuracy did not improve from 0.66233\n",
      "670/670 [==============================] - 216s 323ms/step - loss: 0.6046 - accuracy: 0.6445 - val_loss: 0.5992 - val_accuracy: 0.6492\n",
      "Epoch 16/100\n",
      "670/670 [==============================] - ETA: 0s - loss: 0.5947 - accuracy: 0.6526\n",
      "Epoch 16: val_accuracy did not improve from 0.66233\n",
      "670/670 [==============================] - 142s 212ms/step - loss: 0.5947 - accuracy: 0.6526 - val_loss: 0.5890 - val_accuracy: 0.6575\n",
      "Epoch 17/100\n",
      "670/670 [==============================] - ETA: 0s - loss: 0.5836 - accuracy: 0.6616\n",
      "Epoch 17: val_accuracy improved from 0.66233 to 0.66563, saving model to C:/Users/91845/Desktop/projects/product_embeddings/models\\best_model_iter_2.h5\n",
      "670/670 [==============================] - 178s 265ms/step - loss: 0.5836 - accuracy: 0.6616 - val_loss: 0.5786 - val_accuracy: 0.6656\n",
      "Epoch 18/100\n"
     ]
    },
    {
     "name": "stderr",
     "output_type": "stream",
     "text": [
      "c:\\Users\\91845\\Desktop\\projects\\product_embeddings\\venv\\lib\\site-packages\\keras\\src\\engine\\training.py:3103: UserWarning: You are saving your model as an HDF5 file via `model.save()`. This file format is considered legacy. We recommend using instead the native Keras format, e.g. `model.save('my_model.keras')`.\n",
      "  saving_api.save_model(\n"
     ]
    },
    {
     "name": "stdout",
     "output_type": "stream",
     "text": [
      "670/670 [==============================] - ETA: 0s - loss: 0.6060 - accuracy: 0.6432\n",
      "Epoch 18: val_accuracy did not improve from 0.66563\n",
      "670/670 [==============================] - 153s 228ms/step - loss: 0.6060 - accuracy: 0.6432 - val_loss: 0.5986 - val_accuracy: 0.6491\n",
      "Epoch 19/100\n",
      "670/670 [==============================] - ETA: 0s - loss: 0.5927 - accuracy: 0.6542\n",
      "Epoch 19: val_accuracy did not improve from 0.66563\n",
      "670/670 [==============================] - 152s 227ms/step - loss: 0.5927 - accuracy: 0.6542 - val_loss: 0.5860 - val_accuracy: 0.6602\n",
      "Epoch 20/100\n",
      "670/670 [==============================] - ETA: 0s - loss: 0.5853 - accuracy: 0.6596\n",
      "Epoch 20: val_accuracy did not improve from 0.66563\n",
      "670/670 [==============================] - 228s 340ms/step - loss: 0.5853 - accuracy: 0.6596 - val_loss: 0.5894 - val_accuracy: 0.6604\n",
      "Epoch 21/100\n",
      "670/670 [==============================] - ETA: 0s - loss: 0.6051 - accuracy: 0.6430\n",
      "Epoch 21: val_accuracy did not improve from 0.66563\n",
      "670/670 [==============================] - 153s 228ms/step - loss: 0.6051 - accuracy: 0.6430 - val_loss: 0.5969 - val_accuracy: 0.6497\n",
      "Epoch 22/100\n",
      "670/670 [==============================] - ETA: 0s - loss: 0.5911 - accuracy: 0.6544\n",
      "Epoch 22: val_accuracy did not improve from 0.66563\n",
      "670/670 [==============================] - 154s 230ms/step - loss: 0.5911 - accuracy: 0.6544 - val_loss: 0.5858 - val_accuracy: 0.6589\n",
      "Epoch 23/100\n",
      "670/670 [==============================] - ETA: 0s - loss: 0.5910 - accuracy: 0.6544\n",
      "Epoch 23: val_accuracy did not improve from 0.66563\n",
      "670/670 [==============================] - 231s 345ms/step - loss: 0.5910 - accuracy: 0.6544 - val_loss: 0.5955 - val_accuracy: 0.6530\n",
      "Epoch 24/100\n",
      "670/670 [==============================] - ETA: 0s - loss: 0.6023 - accuracy: 0.6457\n",
      "Epoch 24: val_accuracy did not improve from 0.66563\n",
      "670/670 [==============================] - 154s 230ms/step - loss: 0.6023 - accuracy: 0.6457 - val_loss: 0.5950 - val_accuracy: 0.6521\n",
      "Epoch 25/100\n",
      "670/670 [==============================] - ETA: 0s - loss: 0.5899 - accuracy: 0.6561\n",
      "Epoch 25: val_accuracy did not improve from 0.66563\n",
      "670/670 [==============================] - 155s 231ms/step - loss: 0.5899 - accuracy: 0.6561 - val_loss: 0.5853 - val_accuracy: 0.6599\n",
      "Epoch 26/100\n",
      "670/670 [==============================] - ETA: 0s - loss: 0.5938 - accuracy: 0.6527\n",
      "Epoch 26: val_accuracy did not improve from 0.66563\n",
      "670/670 [==============================] - 230s 344ms/step - loss: 0.5938 - accuracy: 0.6527 - val_loss: 0.5967 - val_accuracy: 0.6510\n",
      "Epoch 27/100\n",
      "670/670 [==============================] - ETA: 0s - loss: 0.5991 - accuracy: 0.6483\n",
      "Epoch 27: val_accuracy did not improve from 0.66563\n",
      "670/670 [==============================] - 152s 228ms/step - loss: 0.5991 - accuracy: 0.6483 - val_loss: 0.5929 - val_accuracy: 0.6538\n",
      "Epoch 27: early stopping\n"
     ]
    }
   ],
   "source": [
    "hist = final_model.fit(\n",
    "    steps_per_epoch=len(train_files)*10, \n",
    "    x=train_generator, \n",
    "    verbose=1, \n",
    "    max_queue_size=32, \n",
    "    validation_data=val_generator,\n",
    "    validation_steps=len(train_files)*10, \n",
    "    epochs=EPOCHS_CNT, \n",
    "    callbacks=[model_checkpoint_callback, early_stopping_callback]\n",
    ")"
   ]
  },
  {
   "cell_type": "code",
   "execution_count": null,
   "metadata": {},
   "outputs": [],
   "source": []
  }
 ],
 "metadata": {
  "kernelspec": {
   "display_name": "venv",
   "language": "python",
   "name": "python3"
  },
  "language_info": {
   "codemirror_mode": {
    "name": "ipython",
    "version": 3
   },
   "file_extension": ".py",
   "mimetype": "text/x-python",
   "name": "python",
   "nbconvert_exporter": "python",
   "pygments_lexer": "ipython3",
   "version": "3.10.10"
  }
 },
 "nbformat": 4,
 "nbformat_minor": 2
}
